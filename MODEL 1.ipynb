{
 "cells": [
  {
   "cell_type": "code",
   "execution_count": 2,
   "metadata": {},
   "outputs": [
    {
     "data": {
      "text/plain": [
       "'waving'"
      ]
     },
     "execution_count": 2,
     "metadata": {},
     "output_type": "execute_result"
    }
   ],
   "source": [
    "import scipy.io\n",
    "import csv\n",
    "import numpy as np\n",
    "import pandas as pd\n",
    "import seaborn as sns\n",
    "import matplotlib.pyplot as plt\n",
    "from sklearn.manifold import TSNE\n",
    "import warnings\n",
    "from datetime import datetime\n",
    "from sklearn.model_selection import GridSearchCV\n",
    "from sklearn.metrics import confusion_matrix\n",
    "from sklearn.metrics import accuracy_score\n",
    "from sklearn.linear_model import LogisticRegression\n",
    "from sklearn.svm import LinearSVC\n",
    "from sklearn.svm import SVC\n",
    "from sklearn.tree import DecisionTreeClassifier\n",
    "from sklearn.ensemble import RandomForestClassifier\n",
    "from sklearn.ensemble import GradientBoostingClassifier\n",
    "from keras.models import Sequential\n",
    "from keras.layers import LSTM,Input\n",
    "from keras.layers import Dense,Bidirectional\n",
    "from keras.layers import GRU\n",
    "from keras.layers.embeddings import Embedding\n",
    "from keras.utils import to_categorical\n",
    "from matplotlib import pyplot as plt\n",
    "warnings.simplefilter(\"ignore\")\n",
    "\n",
    "data_11 = []\n",
    "y =[]\n",
    "trial1=[]\n",
    "p1=[]\n",
    "activities = {'clapping','falling','jumping','nothing','walking','waving'}\n",
    "for person in range(1,4):\n",
    "    for act in activities: \n",
    "        for trial in range(1,51):\n",
    "            data_1 = scipy.io.loadmat(\"./mat/day_1/{person}_{act}_{trial}.mat\".format(person =person, act = act,trial=trial))\n",
    "            data_11.append(data_1)\n",
    "            act1 = act\n",
    "            y.append(act1)\n",
    "            tri =trial\n",
    "            trial1.append(tri)\n",
    "            p = person\n",
    "            p1.append(p)\n",
    "\n",
    "X_var =[]\n",
    "for p in range(0,900):\n",
    "    X_var.append(data_11[p]['csi_trace'])\n",
    "\n",
    "Y_var =[]\n",
    "for q in range(0,900):\n",
    "    Y_var.append(y[q])\n",
    "    \n",
    "Z_var=[]\n",
    "for r in range(0,900):\n",
    "    Z_var.append(trial1[r])\n",
    "Y_var[9]"
   ]
  },
  {
   "cell_type": "code",
   "execution_count": 13,
   "metadata": {},
   "outputs": [
    {
     "data": {
      "text/plain": [
       "(855, 99, 3, 3, 30, 2)"
      ]
     },
     "execution_count": 13,
     "metadata": {},
     "output_type": "execute_result"
    }
   ],
   "source": [
    "csi_i=[]\n",
    "csi=[]\n",
    "k1=[]\n",
    "for i in range(0,900):\n",
    "    k = X_var[i].tolist()\n",
    "    cs=[]\n",
    "    m2=[]\n",
    "    y1=[]\n",
    "    for j in range(0, len(k)):\n",
    "        m2=np.array(k[j])\n",
    "        y= m2[0]\n",
    "        y1.append(y['csi'])\n",
    "        yyy= np.array(y1[j])\n",
    "        yyy1 = yyy.tolist()\n",
    "        yyy2= yyy1[0][0]\n",
    "        o = np.stack([np.real(yyy2), np.imag(yyy2)], axis=-1)\n",
    "        cs.append(o)\n",
    "    csi.append(cs)\n",
    "c=0\n",
    "sha1=[]\n",
    "for x in range(0,900):\n",
    "    if(x not in num1):\n",
    "        kk=[]\n",
    "        sh = csi[x]\n",
    "        if(len(sh)<99):\n",
    "            diff = 99-len(sh)\n",
    "            kk = np.pad(sh,((0,diff), (0, 0),(0,0) , (0, 0), (0, 0)) , mode='constant' )\n",
    "        if(len(sh)>99):\n",
    "            kk = sh[0:99]\n",
    "        if(len(sh)==99):\n",
    "            kk =sh\n",
    "        sha1.append(kk)\n",
    "np.shape(sha1)"
   ]
  },
  {
   "cell_type": "code",
   "execution_count": 14,
   "metadata": {},
   "outputs": [
    {
     "data": {
      "text/plain": [
       "855"
      ]
     },
     "execution_count": 14,
     "metadata": {},
     "output_type": "execute_result"
    }
   ],
   "source": [
    "shi=[]\n",
    "for x in range(0,900):\n",
    "    if( x not in num1):\n",
    "        shi.append(Y_var[x])    \n",
    "len(shi)\n",
    "#np.shape(shi)"
   ]
  },
  {
   "cell_type": "code",
   "execution_count": 21,
   "metadata": {},
   "outputs": [
    {
     "data": {
      "text/plain": [
       "(855, 53460)"
      ]
     },
     "execution_count": 21,
     "metadata": {},
     "output_type": "execute_result"
    }
   ],
   "source": [
    "csii=np.reshape(sha1, (855,53460))\n",
    "np.shape(csii)"
   ]
  },
  {
   "cell_type": "code",
   "execution_count": 147,
   "metadata": {
    "scrolled": false
   },
   "outputs": [
    {
     "data": {
      "text/plain": [
       "900"
      ]
     },
     "execution_count": 147,
     "metadata": {},
     "output_type": "execute_result"
    }
   ],
   "source": [
    "from sklearn import preprocessing\n",
    "import statistics\n",
    "\n",
    "lis1 =[]\n",
    "for i in sha1:\n",
    "    lis = np.shape(i)\n",
    "    lis1.append(lis)\n",
    "#lis1\n",
    "\n",
    "lis2=[]\n",
    "for j in Y_var:\n",
    "    lis2.append(j)\n",
    "lis3=[]\n",
    "for k in Z_var:\n",
    "    lis3.append(k)\n",
    "len(lis2)"
   ]
  },
  {
   "cell_type": "code",
   "execution_count": 23,
   "metadata": {},
   "outputs": [],
   "source": [
    "from sklearn.model_selection import train_test_split\n",
    "from sklearn import preprocessing"
   ]
  },
  {
   "cell_type": "code",
   "execution_count": 148,
   "metadata": {},
   "outputs": [
    {
     "data": {
      "text/plain": [
       "855"
      ]
     },
     "execution_count": 148,
     "metadata": {},
     "output_type": "execute_result"
    }
   ],
   "source": [
    "def your_function(list_of_strings):\n",
    "\n",
    "    encountered_strings = {}\n",
    "    result = []\n",
    "    idx = 0\n",
    "    for astring in list_of_strings:\n",
    "        if astring in encountered_strings:  # check if you already seen this string\n",
    "            result.append(encountered_strings[astring])\n",
    "        else:\n",
    "            encountered_strings[astring] = idx\n",
    "            result.append(idx)\n",
    "            idx += 1\n",
    "    return result\n",
    "kk = your_function(shi)\n",
    "\n",
    "\n",
    "list2 = np.array(kk)\n",
    "len(list2)\n"
   ]
  },
  {
   "cell_type": "code",
   "execution_count": 150,
   "metadata": {},
   "outputs": [
    {
     "name": "stdout",
     "output_type": "stream",
     "text": [
      "(572, 53460) (283, 53460) (572,) (283,)\n"
     ]
    }
   ],
   "source": [
    "X_train, X_test, y_train, y_test = train_test_split(csii, list2, test_size=0.33, random_state=42)\n",
    "print(np.shape(X_train), np.shape(X_test), np.shape(y_train), np.shape(y_test) )"
   ]
  },
  {
   "cell_type": "code",
   "execution_count": 151,
   "metadata": {},
   "outputs": [],
   "source": [
    "from sklearn.metrics import confusion_matrix\n"
   ]
  },
  {
   "cell_type": "code",
   "execution_count": null,
   "metadata": {},
   "outputs": [],
   "source": [
    "from sklearn.metrics import plot_confusion_matrix\n",
    "from sklearn.metrics import confusion_matrix, plot_confusion_matrix\n",
    "\n",
    "disp = plot_confusion_matrix(RandomForestClassifier, X_test, y_test,\n",
    "display_labels=list2, cmap=plt.cm.Blues, normalize='true')"
   ]
  },
  {
   "cell_type": "code",
   "execution_count": 26,
   "metadata": {},
   "outputs": [
    {
     "name": "stdout",
     "output_type": "stream",
     "text": [
      "Accuracy: 56.8904593639576\n"
     ]
    }
   ],
   "source": [
    "from sklearn.ensemble import RandomForestClassifier\n",
    "from sklearn import metrics\n",
    "\n",
    "clff=RandomForestClassifier(n_estimators=100)\n",
    "\n",
    "clff.fit(X_train,y_train)\n",
    "y_predd=clff.predict(X_test)\n",
    "print(\"Accuracy:\",metrics.accuracy_score(y_test, y_predd)*100)"
   ]
  },
  {
   "cell_type": "code",
   "execution_count": 27,
   "metadata": {},
   "outputs": [
    {
     "name": "stdout",
     "output_type": "stream",
     "text": [
      "Accuracy: 25.4416961130742\n"
     ]
    }
   ],
   "source": [
    "from sklearn import svm\n",
    "from sklearn import metrics\n",
    "\n",
    "clf = svm.SVC(kernel='rbf')\n",
    "clf.fit(X_train, y_train)\n",
    "y_pred = clf.predict(X_test)\n",
    "print(\"Accuracy:\",accuracy_score(y_test, y_pred)*100)"
   ]
  },
  {
   "cell_type": "code",
   "execution_count": 144,
   "metadata": {},
   "outputs": [
    {
     "name": "stdout",
     "output_type": "stream",
     "text": [
      "Accuracy: 63.957597173144876\n"
     ]
    },
    {
     "data": {
      "image/png": "[encoded data removed]",
      "text/plain": [
       "<Figure size 432x288 with 2 Axes>"
      ]
     },
     "metadata": {
      "needs_background": "light"
     },
     "output_type": "display_data"
    }
   ],
   "source": [
    "from sklearn.naive_bayes import GaussianNB\n",
    "model = GaussianNB()\n",
    "model.fit(X_train, y_train)\n",
    "y_pre = model.predict(X_test)\n",
    "#print(\"Accuracy:\",metrics.accuracy_score(y_test, y_pre)*100)\n",
    "\n",
    "\n",
    "cnf_matrix = metrics.confusion_matrix(y_test, y_pre)\n",
    "class_names=[0,1,2,3,4,5] # name  of classes\n",
    "fig, ax = plt.subplots()\n",
    "tick_marks = np.arange(len(class_names))\n",
    "plt.xticks(tick_marks, class_names)\n",
    "plt.yticks(tick_marks, class_names)\n",
    "# create heatmap\n",
    "sns.heatmap(pd.DataFrame(cnf_matrix), annot=True, cmap=\"YlGnBu\" ,fmt='g')\n",
    "ax.xaxis.set_label_position(\"top\")\n",
    "plt.tight_layout()\n",
    "plt.title('Confusion matrix of GaussianNB', y=1.1)\n",
    "plt.ylabel('Actual label')\n",
    "plt.xlabel('Predicted label')\n",
    "\n",
    "print(\"Accuracy:\",metrics.accuracy_score(y_test, y_pre)*100)\n"
   ]
  },
  {
   "cell_type": "code",
   "execution_count": 29,
   "metadata": {},
   "outputs": [
    {
     "name": "stdout",
     "output_type": "stream",
     "text": [
      "Accuracy: 31.448763250883395\n"
     ]
    }
   ],
   "source": [
    "from sklearn.tree import DecisionTreeClassifier\n",
    "cl = DecisionTreeClassifier()\n",
    "cl = cl.fit(X_train, y_train)\n",
    "y_p = cl.predict(X_test)\n",
    "print(\"Accuracy:\",metrics.accuracy_score(y_test, y_p)*100)"
   ]
  },
  {
   "cell_type": "code",
   "execution_count": 30,
   "metadata": {},
   "outputs": [
    {
     "name": "stdout",
     "output_type": "stream",
     "text": [
      "Accuracy: 18.021201413427562\n"
     ]
    }
   ],
   "source": [
    "from sklearn.neighbors import KNeighborsClassifier\n",
    "knn = KNeighborsClassifier(n_neighbors=1)\n",
    "knn.fit(X_train, y_train)\n",
    "y_p1 = knn.predict(X_test)\n",
    "print(\"Accuracy:\",metrics.accuracy_score(y_test, y_p1)*100)"
   ]
  },
  {
   "cell_type": "code",
   "execution_count": null,
   "metadata": {},
   "outputs": [],
   "source": [
    "from sklearn.linear_model import LinearRegression as lm\n",
    "model=lm().fit(X_train,y_train)\n",
    "predictions=model.predict(X_test)\n",
    "import matplotlib.pyplot as plt\n",
    "plt.scatter(y_test,predictions)\n",
    "plt.xlabel('ACTIVITIES')\n",
    "plt.ylabel('PREDICTIONS')\n",
    "plt.show()"
   ]
  },
  {
   "cell_type": "code",
   "execution_count": 12,
   "metadata": {},
   "outputs": [
    {
     "data": {
      "text/plain": [
       "45"
      ]
     },
     "execution_count": 12,
     "metadata": {},
     "output_type": "execute_result"
    }
   ],
   "source": [
    "#num1= [201,208,209,212,215,217,232,237,242,253,254,256,257,260,261,262,263,264,267,268,270,271,273,279,282,283,284,286,287,292,294,296,298,552,562,567,576,587,850,853,855,860,867,869,872]\n",
    "#len(num1)"
   ]
  },
  {
   "cell_type": "code",
   "execution_count": null,
   "metadata": {},
   "outputs": [],
   "source": []
  },
  {
   "cell_type": "code",
   "execution_count": 32,
   "metadata": {},
   "outputs": [
    {
     "data": {
      "text/plain": [
       "(855, 7)"
      ]
     },
     "execution_count": 32,
     "metadata": {},
     "output_type": "execute_result"
    }
   ],
   "source": [
    "activities = {'clapping','falling','jumping','nothing','walking','waving'}\n",
    "y_dl = to_categorical(list2, num_classes = len(activities)+1 )\n",
    "np.shape(y_dl)"
   ]
  },
  {
   "cell_type": "code",
   "execution_count": 43,
   "metadata": {},
   "outputs": [
    {
     "data": {
      "text/plain": [
       "(855, 99, 540)"
      ]
     },
     "execution_count": 43,
     "metadata": {},
     "output_type": "execute_result"
    }
   ],
   "source": [
    "csiik=np.reshape(sha1, (855,99,540))\n",
    "np.shape(csiik)"
   ]
  },
  {
   "cell_type": "code",
   "execution_count": 44,
   "metadata": {},
   "outputs": [
    {
     "name": "stdout",
     "output_type": "stream",
     "text": [
      "(572, 99, 540) (283, 99, 540) (572, 7) (283, 7)\n"
     ]
    }
   ],
   "source": [
    "X_train1, X_test1, y_train1, y_test1 = train_test_split(csiik, y_dl, test_size=0.33, random_state=42)\n",
    "print(np.shape(X_train1), np.shape(X_test1), np.shape(y_train1), np.shape(y_test1) )"
   ]
  },
  {
   "cell_type": "code",
   "execution_count": 166,
   "metadata": {},
   "outputs": [
    {
     "name": "stdout",
     "output_type": "stream",
     "text": [
      "Model: \"sequential_30\"\n",
      "_________________________________________________________________\n",
      "Layer (type)                 Output Shape              Param #   \n",
      "=================================================================\n",
      "lstm_79 (LSTM)               (None, 99, 128)           342528    \n",
      "_________________________________________________________________\n",
      "lstm_80 (LSTM)               (None, 99, 128)           131584    \n",
      "_________________________________________________________________\n",
      "lstm_81 (LSTM)               (None, 99, 128)           131584    \n",
      "_________________________________________________________________\n",
      "lstm_82 (LSTM)               (None, 99, 128)           131584    \n",
      "_________________________________________________________________\n",
      "lstm_83 (LSTM)               (None, 128)               131584    \n",
      "_________________________________________________________________\n",
      "dense_27 (Dense)             (None, 7)                 903       \n",
      "=================================================================\n",
      "Total params: 869,767\n",
      "Trainable params: 869,767\n",
      "Non-trainable params: 0\n",
      "_________________________________________________________________\n",
      "None\n"
     ]
    }
   ],
   "source": [
    "\n",
    "model = Sequential()\n",
    "model.add(LSTM(128, return_sequences=True, input_shape=(99,540)))\n",
    "model.add(LSTM(128, return_sequences=True))\n",
    "model.add(LSTM(128, return_sequences=True))\n",
    "model.add(LSTM(128, return_sequences=True))\n",
    "model.add(LSTM(128))\n",
    "model.add(Dense(7, activation = 'softmax'))\n",
    "model.compile(loss ='categorical_crossentropy', optimizer='Adam', metrics=['accuracy'])\n",
    "print(model.summary())"
   ]
  },
  {
   "cell_type": "code",
   "execution_count": 169,
   "metadata": {},
   "outputs": [
    {
     "name": "stdout",
     "output_type": "stream",
     "text": [
      "Epoch 1/30\n",
      "572/572 [==============================] - 14s 25ms/step - loss: 0.0938 - accuracy: 0.9598\n",
      "Epoch 2/30\n",
      "572/572 [==============================] - 14s 24ms/step - loss: 0.1700 - accuracy: 0.9371\n",
      "Epoch 3/30\n",
      "572/572 [==============================] - 14s 25ms/step - loss: 0.1750 - accuracy: 0.9441\n",
      "Epoch 4/30\n",
      "572/572 [==============================] - 14s 25ms/step - loss: 0.1676 - accuracy: 0.9371\n",
      "Epoch 5/30\n",
      "572/572 [==============================] - 14s 25ms/step - loss: 0.1583 - accuracy: 0.9493\n",
      "Epoch 6/30\n",
      "572/572 [==============================] - 14s 25ms/step - loss: 0.1328 - accuracy: 0.9598\n",
      "Epoch 7/30\n",
      "572/572 [==============================] - 14s 25ms/step - loss: 0.1806 - accuracy: 0.9406\n",
      "Epoch 8/30\n",
      "572/572 [==============================] - 14s 25ms/step - loss: 0.2321 - accuracy: 0.9266\n",
      "Epoch 9/30\n",
      "572/572 [==============================] - 14s 25ms/step - loss: 0.1805 - accuracy: 0.9423\n",
      "Epoch 10/30\n",
      "572/572 [==============================] - 14s 25ms/step - loss: 0.0905 - accuracy: 0.9720\n",
      "Epoch 11/30\n",
      "572/572 [==============================] - 14s 25ms/step - loss: 0.0871 - accuracy: 0.9703\n",
      "Epoch 12/30\n",
      "572/572 [==============================] - 14s 25ms/step - loss: 0.0320 - accuracy: 0.9930\n",
      "Epoch 13/30\n",
      "572/572 [==============================] - 14s 25ms/step - loss: 0.0276 - accuracy: 0.9930\n",
      "Epoch 14/30\n",
      "572/572 [==============================] - 14s 25ms/step - loss: 0.0348 - accuracy: 0.9860\n",
      "Epoch 15/30\n",
      "572/572 [==============================] - 14s 25ms/step - loss: 0.0502 - accuracy: 0.9878\n",
      "Epoch 16/30\n",
      "572/572 [==============================] - 14s 25ms/step - loss: 0.0171 - accuracy: 0.9965\n",
      "Epoch 17/30\n",
      "572/572 [==============================] - 14s 25ms/step - loss: 0.0460 - accuracy: 0.9878\n",
      "Epoch 18/30\n",
      "572/572 [==============================] - 14s 25ms/step - loss: 0.1098 - accuracy: 0.9615\n",
      "Epoch 19/30\n",
      "572/572 [==============================] - 14s 25ms/step - loss: 0.1898 - accuracy: 0.9353\n",
      "Epoch 20/30\n",
      "572/572 [==============================] - 14s 25ms/step - loss: 0.2216 - accuracy: 0.9283\n",
      "Epoch 21/30\n",
      "572/572 [==============================] - 14s 25ms/step - loss: 0.2052 - accuracy: 0.9196\n",
      "Epoch 22/30\n",
      "572/572 [==============================] - 14s 25ms/step - loss: 0.1688 - accuracy: 0.9476\n",
      "Epoch 23/30\n",
      "572/572 [==============================] - 14s 24ms/step - loss: 0.1775 - accuracy: 0.9441\n",
      "Epoch 24/30\n",
      "572/572 [==============================] - 14s 25ms/step - loss: 0.0917 - accuracy: 0.9755\n",
      "Epoch 25/30\n",
      "572/572 [==============================] - 14s 25ms/step - loss: 0.0270 - accuracy: 0.9930\n",
      "Epoch 26/30\n",
      "572/572 [==============================] - 14s 25ms/step - loss: 0.0209 - accuracy: 0.9965\n",
      "Epoch 27/30\n",
      "572/572 [==============================] - 14s 25ms/step - loss: 0.0214 - accuracy: 0.9948\n",
      "Epoch 28/30\n",
      "572/572 [==============================] - 14s 25ms/step - loss: 0.0417 - accuracy: 0.9913\n",
      "Epoch 29/30\n",
      "572/572 [==============================] - 14s 24ms/step - loss: 0.0181 - accuracy: 0.9965\n",
      "Epoch 30/30\n",
      "572/572 [==============================] - 14s 24ms/step - loss: 0.0245 - accuracy: 0.9948\n",
      "Accuracy : 55.48%\n"
     ]
    }
   ],
   "source": [
    "his = model.fit(X_train1, y_train1, epochs=30, batch_size =32)\n",
    "scores= model.evaluate(X_test1, y_test1, verbose=0)\n",
    "print(\"Accuracy : %.2f%%\" % (scores[1]*100))"
   ]
  },
  {
   "cell_type": "code",
   "execution_count": null,
   "metadata": {},
   "outputs": [],
   "source": []
  },
  {
   "cell_type": "code",
   "execution_count": null,
   "metadata": {},
   "outputs": [],
   "source": []
  },
  {
   "cell_type": "code",
   "execution_count": null,
   "metadata": {},
   "outputs": [],
   "source": []
  }
 ],
 "metadata": {
  "kernelspec": {
   "display_name": "Python 3",
   "language": "python",
   "name": "python3"
  },
  "language_info": {
   "codemirror_mode": {
    "name": "ipython",
    "version": 3
   },
   "file_extension": ".py",
   "mimetype": "text/x-python",
   "name": "python",
   "nbconvert_exporter": "python",
   "pygments_lexer": "ipython3",
   "version": "3.7.6"
  }
 },
 "nbformat": 4,
 "nbformat_minor": 4
}
